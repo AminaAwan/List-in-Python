{
 "cells": [
  {
   "cell_type": "markdown",
   "id": "5fa35939-cf82-4523-bc7a-824d710657a7",
   "metadata": {},
   "source": [
    "# List in python"
   ]
  },
  {
   "cell_type": "code",
   "execution_count": 6,
   "id": "1b6135e3-fb53-4bd9-9681-f618a60da8d3",
   "metadata": {},
   "outputs": [
    {
     "name": "stdin",
     "output_type": "stream",
     "text": [
      "Enter students name:  Ayesha\n",
      "Enter students name:  Hanna\n",
      "Enter students name:  Hina\n",
      "Enter students name:  Anaya\n",
      "Enter students name:  Amna\n"
     ]
    },
    {
     "name": "stdout",
     "output_type": "stream",
     "text": [
      "The name of students are:  ['Ayesha', 'Hanna', 'Hina', 'Anaya', 'Amna']\n"
     ]
    }
   ],
   "source": [
    "#Name of any five students\n",
    "stud_list = []\n",
    "for i in range(5):\n",
    "    stu_name = input(\"Enter students name: \")\n",
    "    stud_list.append(stu_name)\n",
    "\n",
    "print(\"The name of students are: \", stud_list)"
   ]
  },
  {
   "cell_type": "code",
   "execution_count": 7,
   "id": "63d81700-d4b6-4d1e-9cb3-39b0fd13ce75",
   "metadata": {},
   "outputs": [
    {
     "name": "stdin",
     "output_type": "stream",
     "text": [
      "Enter any number:  34\n",
      "Enter any number:  56\n",
      "Enter any number:  78\n",
      "Enter any number:  89\n",
      "Enter any number:  90\n"
     ]
    },
    {
     "name": "stdout",
     "output_type": "stream",
     "text": [
      "The list of any five numbers are:  [34, 56, 78, 89, 90]\n"
     ]
    }
   ],
   "source": [
    "#Any five numbers\n",
    "numbers = []\n",
    "for i in range(5):\n",
    "    num = int(input(\"Enter any number: \"))\n",
    "    numbers.append(num)\n",
    "print(\"The list of any five numbers are: \",numbers)"
   ]
  },
  {
   "cell_type": "code",
   "execution_count": 10,
   "id": "c48b1e7a-4d00-4bdc-a2e9-12ea22b9c4fd",
   "metadata": {},
   "outputs": [
    {
     "name": "stdin",
     "output_type": "stream",
     "text": [
      "Enter any alphabets letters:  a\n",
      "Enter any alphabets letters:  g\n",
      "Enter any alphabets letters:  h\n",
      "Enter any alphabets letters:  u\n",
      "Enter any alphabets letters:  k\n"
     ]
    },
    {
     "name": "stdout",
     "output_type": "stream",
     "text": [
      "The list of any alphabets:  ['a', 'g', 'h', 'u', 'k']\n"
     ]
    }
   ],
   "source": [
    "#Any five alphabets\n",
    "Alphabets_list = []\n",
    "for i in range(5):\n",
    "    alpha_letters = input(\"Enter any alphabets letters: \")\n",
    "    Alphabets_list.append(alpha_letters)\n",
    "print(\"The list of any alphabets: \",Alphabets_list)"
   ]
  },
  {
   "cell_type": "code",
   "execution_count": 11,
   "id": "9ffde67d-2dd4-462b-be8f-6212b8abfad1",
   "metadata": {},
   "outputs": [
    {
     "name": "stdin",
     "output_type": "stream",
     "text": [
      "Enter any colors name:  Red\n",
      "Enter any colors name:  Brown\n",
      "Enter any colors name:  Yellow\n",
      "Enter any colors name:  White\n",
      "Enter any colors name:  Purple\n"
     ]
    },
    {
     "name": "stdout",
     "output_type": "stream",
     "text": [
      "The list of any colors name:  ['Red', 'Brown', 'Yellow', 'White', 'Purple']\n"
     ]
    }
   ],
   "source": [
    "#Any five colors name\n",
    "\n",
    "colors_list = []\n",
    "for i in range(5):\n",
    "    color_name = input(\"Enter any colors name: \")\n",
    "    colors_list.append(color_name)\n",
    "print(\"The list of any colors name: \",colors_list)"
   ]
  },
  {
   "cell_type": "code",
   "execution_count": 16,
   "id": "d73cba63-0322-4b18-9bed-4cc4d4f90247",
   "metadata": {},
   "outputs": [
    {
     "name": "stdin",
     "output_type": "stream",
     "text": [
      "Enter numbers in the list:  1\n",
      "Enter numbers in the list:  2\n",
      "Enter numbers in the list:  3\n",
      "Enter numbers in the list:  4\n",
      "Enter numbers in the list:  5\n",
      "Enter numbers in the list:  6\n",
      "Enter numbers in the list:  7\n",
      "Enter numbers in the list:  8\n",
      "Enter numbers in the list:  9\n",
      "Enter numbers in the list:  10\n"
     ]
    },
    {
     "name": "stdout",
     "output_type": "stream",
     "text": [
      "The list of odd numbers is:  [1, 3, 5, 7, 9]\n"
     ]
    }
   ],
   "source": [
    "#accept 10 numbers from the user and add in the list if the number is odd\n",
    "L = []\n",
    "for i in range(10):\n",
    "    num = int(input(\"Enter numbers in the list: \"))\n",
    "    if num%2 != 0:\n",
    "        L.append(num)\n",
    "print(\"The list of odd numbers is: \",L)"
   ]
  },
  {
   "cell_type": "code",
   "execution_count": 17,
   "id": "aec5f420-8539-4b2c-a93d-420d16b5dee7",
   "metadata": {},
   "outputs": [
    {
     "name": "stdout",
     "output_type": "stream",
     "text": [
      "The sum all even numbers in the list is:  128\n"
     ]
    }
   ],
   "source": [
    "#sum of all even numbers\n",
    "list1 = [23,38,29,40,50,79]\n",
    "sum = 0\n",
    "for item in list1:\n",
    "    if item%2 ==0:\n",
    "        sum = sum + item\n",
    "print(\"The sum all even numbers in the list is: \",sum)"
   ]
  },
  {
   "cell_type": "code",
   "execution_count": 23,
   "id": "d8b5fe02-f291-42d6-a743-1f5190ac8a61",
   "metadata": {},
   "outputs": [
    {
     "name": "stdout",
     "output_type": "stream",
     "text": [
      "['dates', 'grapes', 'apple']\n"
     ]
    }
   ],
   "source": [
    "#reverse the list without using build in reverse function\n",
    "def reverse_list():\n",
    "    mylist = [\"apple\",\"grapes\",\"dates\"]\n",
    "    print(mylist[::-1])\n",
    "\n",
    "reverse_list()"
   ]
  },
  {
   "cell_type": "code",
   "execution_count": 30,
   "id": "76b1d40d-50b7-4880-b87a-3f7507ec4f17",
   "metadata": {},
   "outputs": [
    {
     "name": "stdout",
     "output_type": "stream",
     "text": [
      "Duplicates exist\n"
     ]
    }
   ],
   "source": [
    "#To check duplicates elements exist in the list or not?\n",
    "list_ = [1, 2, 2, 3, 3, 4, 5]\n",
    "\n",
    "if len(list_) != len(set(list_)): #set() remove the duplicates\n",
    "    print(\"Duplicates exist\")\n",
    "else:\n",
    "    print(\"No duplicates\")  "
   ]
  },
  {
   "cell_type": "code",
   "execution_count": 34,
   "id": "9c037b71-1d71-4de8-baa9-6de6dcda5eee",
   "metadata": {},
   "outputs": [
    {
     "name": "stdout",
     "output_type": "stream",
     "text": [
      "The largest num is in the list:  46\n",
      "The smalles num is in the list:  19\n",
      "The difference of both numbers is:  27\n"
     ]
    }
   ],
   "source": [
    "#difference of largest and smallest numbers \n",
    "\n",
    "list2 = [23,24,20,19,46]\n",
    "largest_num = max(list2)\n",
    "smallest_num = min(list2)\n",
    "sub_num = largest_num - smallest_num\n",
    "\n",
    "print(\"The largest num is in the list: \",largest_num)\n",
    "print(\"The smalles num is in the list: \",smallest_num)\n",
    "print(\"The difference of both numbers is: \",sub_num)"
   ]
  },
  {
   "cell_type": "code",
   "execution_count": 35,
   "id": "123aa26a-8c90-4061-bdaa-19498e7e6766",
   "metadata": {},
   "outputs": [
    {
     "name": "stdout",
     "output_type": "stream",
     "text": [
      "The products of list items is:  12000\n"
     ]
    }
   ],
   "source": [
    "#product of all list items\n",
    "\n",
    "list3 = [20,30,4,5]\n",
    "prod = 1\n",
    "\n",
    "for i in list3:\n",
    "    prod = prod * i\n",
    "\n",
    "print(\"The products of list items is: \",prod)"
   ]
  },
  {
   "cell_type": "code",
   "execution_count": 43,
   "id": "541e1bff-a745-469a-aee0-2a44691b1e34",
   "metadata": {},
   "outputs": [
    {
     "name": "stdout",
     "output_type": "stream",
     "text": [
      "The most frequent numbers:  4\n"
     ]
    }
   ],
   "source": [
    "numbers = [1,2,3,4,4,5,5,6,6]\n",
    "most_frequent = max(set(numbers), key=numbers.count)\n",
    "print(\"The most frequent numbers: \",most_frequent)"
   ]
  },
  {
   "cell_type": "code",
   "execution_count": 54,
   "id": "91c57a19-4c63-4ac0-b772-9912ea2491f8",
   "metadata": {},
   "outputs": [
    {
     "name": "stdout",
     "output_type": "stream",
     "text": [
      "The most frequent number appears:  [5]\n",
      "They appear  3 times\n"
     ]
    }
   ],
   "source": [
    "from collections import Counter\n",
    "\n",
    "numbers = [1,2,2,3,3,4,4,5,5,5,6]\n",
    "\n",
    "#count the numebrs from the list\n",
    "counter = Counter(numbers)\n",
    "\n",
    "#get max frequent numbers\n",
    "max_freq = max(counter.values())\n",
    "\n",
    "#count most frequent numbers from the list\n",
    "most_frequent_num = [num for num, count in counter.items() if count == max_freq]\n",
    "print(\"The most frequent number appears: \", most_frequent_num)\n",
    "print(\"They appear \",max_freq ,\"times\")"
   ]
  },
  {
   "cell_type": "code",
   "execution_count": 60,
   "id": "eb5942ac-a6ad-40b6-9589-71b770cd790a",
   "metadata": {},
   "outputs": [
    {
     "name": "stdout",
     "output_type": "stream",
     "text": [
      "The list is divided into two halves:  [1, 2, 3, 4] [5, 6, 7, 8]\n"
     ]
    }
   ],
   "source": [
    "#split the list into two halves\n",
    "\n",
    "def split_list(mylist):\n",
    "    mid = len(mylist)//2\n",
    "    first_half = mylist[:mid]\n",
    "    second_half = mylist[mid:]\n",
    "\n",
    "    print(\"The list is divided into two halves: \",first_half, second_half)\n",
    "    #return first_half, second_half\n",
    "\n",
    "mylist = [1,2,3,4,5,6,7,8]\n",
    "split_list(mylist)"
   ]
  },
  {
   "cell_type": "code",
   "execution_count": 67,
   "id": "5747008a-8fad-4f1e-a8a1-0cb692393b5d",
   "metadata": {},
   "outputs": [
    {
     "name": "stdout",
     "output_type": "stream",
     "text": [
      "The right rotation of list is given:  [400, 500, 100, 200, 300]\n"
     ]
    }
   ],
   "source": [
    "#rotate the list by specified position\n",
    "#right rotation\n",
    "\n",
    "def right_rotation(l,k):\n",
    "\n",
    "#Handles if k is larger than list length\n",
    "    k = k%len(l)\n",
    "\n",
    "#[-k:] refers to the last element int the list and [:-k] refers to the remaining front values\n",
    "    return l[-k:] + l[:-k]\n",
    "\n",
    "l = [100,200,300,400,500]\n",
    "k = 2\n",
    "print(\"The right rotation of list is given: \", right_rotation(l,k))"
   ]
  },
  {
   "cell_type": "code",
   "execution_count": 72,
   "id": "799aab98-d0f3-4079-9c20-80a241e7e157",
   "metadata": {},
   "outputs": [
    {
     "name": "stdout",
     "output_type": "stream",
     "text": [
      "The left rotation of list is given:  [200, 300, 400, 500, 100]\n"
     ]
    }
   ],
   "source": [
    "#rotate the list by specified position\n",
    "#left rotation\n",
    "\n",
    "def left_rotation(l,k):\n",
    "\n",
    "#Handles if k is larger than list length\n",
    "    k = k%len(l)\n",
    "\n",
    "#[k:] refers to the first element int the list and [:k] refers to the remaining values\n",
    "    return l[k:] + l[:k]\n",
    "\n",
    "l = [100,200,300,400,500]\n",
    "k = 1\n",
    "print(\"The left rotation of list is given: \", left_rotation(l,k))"
   ]
  },
  {
   "cell_type": "code",
   "execution_count": null,
   "id": "8c197709-4db8-45b0-8e16-5354ad01679f",
   "metadata": {},
   "outputs": [],
   "source": []
  }
 ],
 "metadata": {
  "kernelspec": {
   "display_name": "Python [conda env:base] *",
   "language": "python",
   "name": "conda-base-py"
  },
  "language_info": {
   "codemirror_mode": {
    "name": "ipython",
    "version": 3
   },
   "file_extension": ".py",
   "mimetype": "text/x-python",
   "name": "python",
   "nbconvert_exporter": "python",
   "pygments_lexer": "ipython3",
   "version": "3.12.7"
  }
 },
 "nbformat": 4,
 "nbformat_minor": 5
}
